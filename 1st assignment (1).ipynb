{
 "cells": [
  {
   "cell_type": "code",
   "execution_count": 1,
   "metadata": {},
   "outputs": [
    {
     "name": "stdout",
     "output_type": "stream",
     "text": [
      "Twinkle, twinkle, little star, \n",
      "       How I wonder what you are!\n",
      "            Up above the world so high, \n",
      "            Like a diamond in the sky.\n",
      "Twinkle, twinkle, little star, \n",
      "       How I wonder what you are!\n"
     ]
    }
   ],
   "source": [
    "#Q-1.Write a Python program to print the following string in a specific format (see the output).\n",
    "name1=\"Twinkle, twinkle, little star,\"\n",
    "name2=\"      How I wonder what you are!\"\n",
    "name3=name1+\" \\n \"+name2\n",
    "print(name3)\n",
    "print(\"            Up above the world so high, \\n            Like a diamond in the sky.\")\n",
    "print(name3)"
   ]
  },
  {
   "cell_type": "code",
   "execution_count": 2,
   "metadata": {},
   "outputs": [
    {
     "name": "stdout",
     "output_type": "stream",
     "text": [
      "Python version\n",
      "3.7.4 (default, Aug  9 2019, 18:34:13) [MSC v.1915 64 bit (AMD64)]\n",
      "Version info.\n",
      "sys.version_info(major=3, minor=7, micro=4, releaselevel='final', serial=0)\n"
     ]
    }
   ],
   "source": [
    "#Q-2. Write a Python program to get the Python version you are using.\n",
    "import sys\n",
    "print(\"Python version\")\n",
    "print (sys.version)\n",
    "print(\"Version info.\")\n",
    "print (sys.version_info)"
   ]
  },
  {
   "cell_type": "code",
   "execution_count": 3,
   "metadata": {},
   "outputs": [
    {
     "name": "stdout",
     "output_type": "stream",
     "text": [
      "Today Date and Time = 2019-10-31 12:50:05.595480\n"
     ]
    }
   ],
   "source": [
    "#Q-3.Write a Python program to display the current date and time.\n",
    "from datetime import datetime\n",
    "abi = datetime.now()\n",
    " \n",
    "print(\"Today Date and Time =\", abi)"
   ]
  },
  {
   "cell_type": "code",
   "execution_count": 4,
   "metadata": {},
   "outputs": [
    {
     "name": "stdin",
     "output_type": "stream",
     "text": [
      "Input the radius of the circle :  12\n"
     ]
    },
    {
     "name": "stdout",
     "output_type": "stream",
     "text": [
      "The area of the circle with radius 12.0 is: 452.3893421169302\n"
     ]
    }
   ],
   "source": [
    "#Q-4.Write a Python program which accepts the radius of a circle from the user and compute the area.\n",
    "from math import pi\n",
    "r = float(input (\"Input the radius of the circle : \"))\n",
    "print (\"The area of the circle with radius \" + str(r) + \" is: \" + str(pi * r**2))"
   ]
  },
  {
   "cell_type": "code",
   "execution_count": 6,
   "metadata": {},
   "outputs": [
    {
     "name": "stdin",
     "output_type": "stream",
     "text": [
      "write your 1st Name:  irfan\n",
      "write your last Name:  ramsha\n"
     ]
    },
    {
     "name": "stdout",
     "output_type": "stream",
     "text": [
      "wow its reverse:  ramsha irfan\n"
     ]
    }
   ],
   "source": [
    "#Q-5.Write a Python program which accepts the user's first and last name and print them in reverse order with a space between them.\n",
    "First_Name=input (\"write your 1st Name: \")\n",
    "Last_Name=input (\"write your last Name: \")\n",
    "print(\"wow its reverse: \", Last_Name, First_Name)"
   ]
  },
  {
   "cell_type": "code",
   "execution_count": 16,
   "metadata": {},
   "outputs": [
    {
     "name": "stdin",
     "output_type": "stream",
     "text": [
      "enter 1st number:  2\n",
      "enter 2nd number:  3\n"
     ]
    },
    {
     "name": "stdout",
     "output_type": "stream",
     "text": [
      "The sum of 2 and 3 is 5.0\n"
     ]
    }
   ],
   "source": [
    "## Q-6.Write a python program which takes two inputs from user and print them addition.\n",
    "number1= input(\"enter 1st number: \")\n",
    "number2= input(\"enter 2nd number: \")\n",
    "sum = float(number1) + float(number2)\n",
    "print('The sum of {0} and {1} is {2}'.format(num1, num2, sum))"
   ]
  },
  {
   "cell_type": "code",
   "execution_count": 26,
   "metadata": {},
   "outputs": [
    {
     "name": "stdin",
     "output_type": "stream",
     "text": [
      "enter your 1st number:  2\n",
      "enter your 2nd number:  3\n"
     ]
    },
    {
     "name": "stdout",
     "output_type": "stream",
     "text": [
      "the sum is = 5.0\n"
     ]
    }
   ],
   "source": [
    "#or this second addtion code\n",
    "int=(a,b,sum)\n",
    "a=input (\"enter your 1st number: \")\n",
    "b=input (\"enter your 2nd number: \")\n",
    "sum=float(a)+float(b)\n",
    "print(\"the sum is =\",sum)"
   ]
  },
  {
   "cell_type": "code",
   "execution_count": null,
   "metadata": {},
   "outputs": [],
   "source": []
  }
 ],
 "metadata": {
  "kernelspec": {
   "display_name": "Python 3",
   "language": "python",
   "name": "python3"
  },
  "language_info": {
   "codemirror_mode": {
    "name": "ipython",
    "version": 3
   },
   "file_extension": ".py",
   "mimetype": "text/x-python",
   "name": "python",
   "nbconvert_exporter": "python",
   "pygments_lexer": "ipython3",
   "version": "3.7.4"
  }
 },
 "nbformat": 4,
 "nbformat_minor": 4
}
