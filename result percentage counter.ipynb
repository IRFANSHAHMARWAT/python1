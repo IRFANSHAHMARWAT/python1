{
 "cells": [
  {
   "cell_type": "code",
   "execution_count": 2,
   "metadata": {},
   "outputs": [
    {
     "name": "stdin",
     "output_type": "stream",
     "text": [
      "Enter your age 15\n"
     ]
    },
    {
     "name": "stdout",
     "output_type": "stream",
     "text": [
      "not allowed\n"
     ]
    }
   ],
   "source": [
    "age = int(input(\"Enter your age\"))\n",
    "if age >= 18 :\n",
    "   print(\"allowed to ride as   \")\n",
    "else :\n",
    "        print (\"not allowed\")"
   ]
  },
  {
   "cell_type": "code",
   "execution_count": 3,
   "metadata": {},
   "outputs": [
    {
     "name": "stdout",
     "output_type": "stream",
     "text": [
      "wrong answer\n"
     ]
    }
   ],
   "source": [
    "x=10;\n",
    "y=2;\n",
    "a=30;\n",
    "b=8;\n",
    "if x + y != a - b :\n",
    "       print(\"your answer is correct\")\n",
    "else:\n",
    "    print (\"wrong answer\")"
   ]
  },
  {
   "cell_type": "code",
   "execution_count": 3,
   "metadata": {},
   "outputs": [
    {
     "name": "stdin",
     "output_type": "stream",
     "text": [
      "enter percentage % 110\n"
     ]
    },
    {
     "name": "stdout",
     "output_type": "stream",
     "text": [
      "A+\n"
     ]
    }
   ],
   "source": [
    "per = int(input(\"enter percentage %\"))\n",
    "if per >= 80 :\n",
    "    print (\"A+\")\n",
    "elif per >= 70 :\n",
    "    print (\"A\")\n",
    "elif per >=60 :\n",
    "    print(\"B\")\n",
    "elif per >=50 :\n",
    "    print (\"C\")\n",
    "elif per >=40 :\n",
    "     print(\"D\")\n",
    "elif per >= 33 :\n",
    "   print (\"E\")\n",
    "else :\n",
    "    print(\"F\")\n"
   ]
  },
  {
   "cell_type": "code",
   "execution_count": null,
   "metadata": {},
   "outputs": [],
   "source": []
  }
 ],
 "metadata": {
  "kernelspec": {
   "display_name": "Python 3",
   "language": "python",
   "name": "python3"
  },
  "language_info": {
   "codemirror_mode": {
    "name": "ipython",
    "version": 3
   },
   "file_extension": ".py",
   "mimetype": "text/x-python",
   "name": "python",
   "nbconvert_exporter": "python",
   "pygments_lexer": "ipython3",
   "version": "3.7.4"
  }
 },
 "nbformat": 4,
 "nbformat_minor": 4
}
